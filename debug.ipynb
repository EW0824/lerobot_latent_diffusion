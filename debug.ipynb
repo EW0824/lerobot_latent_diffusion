{
 "cells": [
  {
   "cell_type": "code",
   "execution_count": 2,
   "metadata": {},
   "outputs": [
    {
     "name": "stdout",
     "output_type": "stream",
     "text": [
      "The autoreload extension is already loaded. To reload it, use:\n",
      "  %reload_ext autoreload\n"
     ]
    }
   ],
   "source": [
    "%load_ext autoreload\n",
    "%autoreload 2"
   ]
  },
  {
   "cell_type": "markdown",
   "metadata": {},
   "source": [
    "# Check dataset action dim"
   ]
  },
  {
   "cell_type": "code",
   "execution_count": 13,
   "metadata": {},
   "outputs": [
    {
     "name": "stdout",
     "output_type": "stream",
     "text": [
      "Dataset info:\n",
      "Number of episodes: 800\n",
      "Features: {'observation.image': {'dtype': 'video', 'shape': (84, 84, 3), 'names': ['height', 'width', 'channel'], 'video_info': {'video.fps': 15.0, 'video.codec': 'av1', 'video.pix_fmt': 'yuv420p', 'video.is_depth_map': False, 'has_audio': False}}, 'observation.state': {'dtype': 'float32', 'shape': (4,), 'names': {'motors': ['motor_0', 'motor_1', 'motor_2', 'motor_3']}}, 'action': {'dtype': 'float32', 'shape': (4,), 'names': {'motors': ['motor_0', 'motor_1', 'motor_2', 'motor_3']}}, 'episode_index': {'dtype': 'int64', 'shape': (1,), 'names': None}, 'frame_index': {'dtype': 'int64', 'shape': (1,), 'names': None}, 'timestamp': {'dtype': 'float32', 'shape': (1,), 'names': None}, 'next.reward': {'dtype': 'float32', 'shape': (1,), 'names': None}, 'next.done': {'dtype': 'bool', 'shape': (1,), 'names': None}, 'index': {'dtype': 'int64', 'shape': (1,), 'names': None}, 'task_index': {'dtype': 'int64', 'shape': (1,), 'names': None}}\n"
     ]
    }
   ],
   "source": [
    "import numpy as np\n",
    "from lerobot.common.datasets import LeRobotDataset\n",
    "ds = LeRobotDataset(\"lerobot/xarm_lift_medium\")\n",
    "\n",
    "ds.download_episodes()\n",
    "\n",
    "# Print dataset info\n",
    "print(\"Dataset info:\")\n",
    "print(f\"Number of episodes: {ds.num_episodes}\")\n",
    "print(f\"Features: {ds.features}\")"
   ]
  },
  {
   "cell_type": "code",
   "execution_count": 14,
   "metadata": {},
   "outputs": [
    {
     "name": "stdout",
     "output_type": "stream",
     "text": [
      "\n",
      "First item keys: dict_keys(['observation.image', 'observation.state', 'action', 'episode_index', 'frame_index', 'timestamp', 'next.reward', 'next.done', 'index', 'task_index', 'task'])\n",
      "\n",
      "Trying to access episodes...\n",
      "Successfully collected 5 actions\n"
     ]
    },
    {
     "name": "stderr",
     "output_type": "stream",
     "text": [
      "objc[57261]: Class AVFFrameReceiver is implemented in both /Users/OAA/miniforge3/envs/robotics/lib/python3.10/site-packages/av/.dylibs/libavdevice.61.3.100.dylib (0x11bd083a8) and /Users/OAA/miniforge3/envs/robotics/lib/libavdevice.61.3.100.dylib (0x16bb4c848). One of the two will be used. Which one is undefined.\n",
      "objc[57261]: Class AVFAudioReceiver is implemented in both /Users/OAA/miniforge3/envs/robotics/lib/python3.10/site-packages/av/.dylibs/libavdevice.61.3.100.dylib (0x11bd083f8) and /Users/OAA/miniforge3/envs/robotics/lib/libavdevice.61.3.100.dylib (0x16bb4c898). One of the two will be used. Which one is undefined.\n"
     ]
    }
   ],
   "source": [
    "# Try to access a single episode first\n",
    "try:\n",
    "    # Get the first item from the dataset\n",
    "    first_item = ds[0]\n",
    "    print(\"\\nFirst item keys:\", first_item.keys())\n",
    "    \n",
    "    # Now try to access episodes\n",
    "    print(\"\\nTrying to access episodes...\")\n",
    "    all_actions = []\n",
    "    for i in range(min(5, ds.num_episodes)):  # Try first 5 episodes\n",
    "        item = ds[i]\n",
    "        if \"action\" in item:\n",
    "            all_actions.append(item[\"action\"])\n",
    "    \n",
    "    print(f\"Successfully collected {len(all_actions)} actions\")\n",
    "except Exception as e:\n",
    "    print(\"Error:\", str(e))"
   ]
  },
  {
   "cell_type": "code",
   "execution_count": 18,
   "metadata": {},
   "outputs": [
    {
     "name": "stdout",
     "output_type": "stream",
     "text": [
      "Action Mean: [ 0.27324945 -0.14783773 -0.15354335 -0.23991735]\n",
      "Action Std: [0.631202   0.6673078  0.6527433  0.65370834]\n",
      "Action Min: [-1. -1. -1. -1.]\n",
      "Action Max: [1. 1. 1. 1.]\n"
     ]
    }
   ],
   "source": [
    "all_actions = []\n",
    "for episode in ds:\n",
    "    # print(episode)\n",
    "    all_actions.append(episode[\"action\"])\n",
    "    # for step in episode:\n",
    "    #     print(step)\n",
    "    #     all_actions.append(step[\"action\"])\n",
    "\n",
    "actions = np.array(all_actions)\n",
    "\n",
    "print(\"Action Mean:\", actions.mean(axis=0))\n",
    "print(\"Action Std:\", actions.std(axis=0))\n",
    "print(\"Action Min:\", actions.min(axis=0))\n",
    "print(\"Action Max:\", actions.max(axis=0))"
   ]
  },
  {
   "cell_type": "markdown",
   "metadata": {},
   "source": [
    "# Testing VAE"
   ]
  },
  {
   "cell_type": "code",
   "execution_count": 44,
   "metadata": {},
   "outputs": [],
   "source": [
    "import torch\n",
    "import numpy as np\n",
    "from pathlib import Path\n",
    "from lerobot.common.policies.action_vae import ActionVAE\n",
    "from operator import itemgetter"
   ]
  },
  {
   "cell_type": "code",
   "execution_count": 27,
   "metadata": {},
   "outputs": [
    {
     "name": "stdout",
     "output_type": "stream",
     "text": [
      "ActionVAE(\n",
      "  (encoder_layers): ModuleList(\n",
      "    (0): Sequential(\n",
      "      (0): Linear(in_features=2, out_features=256, bias=True)\n",
      "      (1): BatchNorm1d(256, eps=1e-05, momentum=0.1, affine=True, track_running_stats=True)\n",
      "      (2): LeakyReLU(negative_slope=0.2)\n",
      "      (3): Dropout(p=0.1, inplace=False)\n",
      "    )\n",
      "    (1): Sequential(\n",
      "      (0): Linear(in_features=256, out_features=128, bias=True)\n",
      "      (1): BatchNorm1d(128, eps=1e-05, momentum=0.1, affine=True, track_running_stats=True)\n",
      "      (2): LeakyReLU(negative_slope=0.2)\n",
      "      (3): Dropout(p=0.1, inplace=False)\n",
      "    )\n",
      "    (2): Sequential(\n",
      "      (0): Linear(in_features=128, out_features=64, bias=True)\n",
      "      (1): BatchNorm1d(64, eps=1e-05, momentum=0.1, affine=True, track_running_stats=True)\n",
      "      (2): LeakyReLU(negative_slope=0.2)\n",
      "      (3): Dropout(p=0.1, inplace=False)\n",
      "    )\n",
      "  )\n",
      "  (fc_mu): Linear(in_features=64, out_features=2, bias=True)\n",
      "  (fc_var): Linear(in_features=64, out_features=2, bias=True)\n",
      "  (decoder_layers): ModuleList(\n",
      "    (0): Sequential(\n",
      "      (0): Linear(in_features=2, out_features=64, bias=True)\n",
      "      (1): BatchNorm1d(64, eps=1e-05, momentum=0.1, affine=True, track_running_stats=True)\n",
      "      (2): LeakyReLU(negative_slope=0.2)\n",
      "      (3): Dropout(p=0.1, inplace=False)\n",
      "    )\n",
      "    (1): Sequential(\n",
      "      (0): Linear(in_features=64, out_features=128, bias=True)\n",
      "      (1): BatchNorm1d(128, eps=1e-05, momentum=0.1, affine=True, track_running_stats=True)\n",
      "      (2): LeakyReLU(negative_slope=0.2)\n",
      "      (3): Dropout(p=0.1, inplace=False)\n",
      "    )\n",
      "    (2): Sequential(\n",
      "      (0): Linear(in_features=128, out_features=256, bias=True)\n",
      "      (1): BatchNorm1d(256, eps=1e-05, momentum=0.1, affine=True, track_running_stats=True)\n",
      "      (2): LeakyReLU(negative_slope=0.2)\n",
      "      (3): Dropout(p=0.1, inplace=False)\n",
      "    )\n",
      "  )\n",
      "  (final_layer): Sequential(\n",
      "    (0): Linear(in_features=256, out_features=2, bias=True)\n",
      "    (1): Tanh()\n",
      "  )\n",
      ")\n"
     ]
    }
   ],
   "source": [
    "device = torch.device(\"mps\")\n",
    "\n",
    "vae = ActionVAE(\n",
    "    input_dim=2, \n",
    "    latent_dim=2,\n",
    "    hidden_dims=[256, 128, 64],\n",
    "    ).to(device)\n",
    "\n",
    "path = Path(\"checkpoints/trained_beta_vae.pth\")\n",
    "state = torch.load(path, map_location=device)\n",
    "\n",
    "vae.load_state_dict(\n",
    "        state['model_state_dict'] if 'model_state_dict' in state  # -- saved with model_state_dict key\n",
    "        else state['model'] if 'model' in state         # -- diffusion-policy style\n",
    "        else state['state_dict'] if 'state_dict' in state\n",
    "        else state                                 # plain torch.save(vae.state_dict())\n",
    ")\n",
    "vae.eval()\n",
    "print(vae)"
   ]
  },
  {
   "cell_type": "code",
   "execution_count": 28,
   "metadata": {},
   "outputs": [],
   "source": [
    "# Load lerobot dataset\n",
    "from datasets import load_dataset\n",
    "ds = load_dataset(\"lerobot/pusht\", split=\"train\")"
   ]
  },
  {
   "cell_type": "code",
   "execution_count": 29,
   "metadata": {},
   "outputs": [],
   "source": [
    "def fetch_episode(ds, ep_idx: int, max_len: int = None):\n",
    "    \"\"\"Return a list of actions for the requested episode_index.\"\"\"\n",
    "    # ➊ keep only rows that match the episode\n",
    "    ep_rows = ds.filter(lambda r: r[\"episode_index\"] == ep_idx)\n",
    "    # ➋ make sure they’re sorted by frame_index\n",
    "    ep_rows = sorted(ep_rows, key=itemgetter(\"frame_index\"))\n",
    "    # ➌ pull the 'action' field and (optionally) truncate to max_len\n",
    "    actions = [row[\"action\"] for row in ep_rows]\n",
    "    if max_len is not None:\n",
    "        actions = actions[:max_len]\n",
    "    return torch.tensor(actions, dtype=torch.float32, device=device)  # (T,2)｜"
   ]
  },
  {
   "cell_type": "code",
   "execution_count": 39,
   "metadata": {},
   "outputs": [
    {
     "name": "stderr",
     "output_type": "stream",
     "text": [
      "Filter: 100%|██████████| 25650/25650 [00:00<00:00, 127010.99 examples/s]"
     ]
    },
    {
     "name": "stdout",
     "output_type": "stream",
     "text": [
      "torch.Size([32, 2])\n"
     ]
    },
    {
     "name": "stderr",
     "output_type": "stream",
     "text": [
      "\n"
     ]
    }
   ],
   "source": [
    "ep_idx = 9\n",
    "actions = fetch_episode(ds, ep_idx=ep_idx, max_len=32)\n",
    "print(actions.shape)"
   ]
  },
  {
   "cell_type": "code",
   "execution_count": 40,
   "metadata": {},
   "outputs": [
    {
     "name": "stdout",
     "output_type": "stream",
     "text": [
      "MSE per element: 6.913333e+04\n"
     ]
    }
   ],
   "source": [
    "with torch.no_grad():\n",
    "    recon, _, mu, log_var = vae(actions)\n",
    "\n",
    "mse = torch.mean((actions - recon) ** 2).mean()\n",
    "print(f\"MSE per element: {mse:.6e}\")"
   ]
  },
  {
   "cell_type": "code",
   "execution_count": null,
   "metadata": {},
   "outputs": [],
   "source": [
    "import gym, imageio\n",
    "env = gym.make('gym_pusht/PushT-v0')\n",
    "frames = []\n",
    "obs, _ = env.reset(seed=0)\n",
    "\n",
    "for a in actions.cpu().numpy():\n",
    "    obs, _, done, _ = env.step(a)\n",
    "    frames.append(env.render(mode='rgb_array'))\n",
    "    if done:\n",
    "        break\n",
    "\n",
    "imageio.mimsave('orig.gif', frames, fps=20)"
   ]
  },
  {
   "cell_type": "markdown",
   "metadata": {},
   "source": [
    "# Test Diffusion config with VAE"
   ]
  },
  {
   "cell_type": "code",
   "execution_count": 1,
   "metadata": {},
   "outputs": [
    {
     "name": "stderr",
     "output_type": "stream",
     "text": [
      "/Users/OAA/miniforge3/envs/robotics/lib/python3.10/site-packages/tqdm/auto.py:21: TqdmWarning: IProgress not found. Please update jupyter and ipywidgets. See https://ipywidgets.readthedocs.io/en/stable/user_install.html\n",
      "  from .autonotebook import tqdm as notebook_tqdm\n"
     ]
    }
   ],
   "source": [
    "from lerobot.common.policies.diffusion.modeling_diffusion import DiffusionPolicy\n",
    "from lerobot.common.policies.diffusion.configuration_diffusion import DiffusionConfig\n",
    "from lerobot.common.datasets.lerobot_dataset import LeRobotDataset, LeRobotDatasetMetadata\n",
    "from lerobot.common.datasets.utils import dataset_to_policy_features\n",
    "from lerobot.configs.types import FeatureType\n",
    "\n",
    "import torch"
   ]
  },
  {
   "cell_type": "code",
   "execution_count": 2,
   "metadata": {},
   "outputs": [],
   "source": [
    "# When starting from scratch (i.e. not from a pretrained policy), we need to specify 2 things before\n",
    "# creating the policy:\n",
    "#   - input/output shapes: to properly size the policy\n",
    "#   - dataset stats: for normalization and denormalization of input/outputs\n",
    "dataset_metadata = LeRobotDatasetMetadata(\"lerobot/pusht\")\n",
    "features = dataset_to_policy_features(dataset_metadata.features)\n",
    "output_features = {key: ft for key, ft in features.items() if ft.type is FeatureType.ACTION}\n",
    "input_features = {key: ft for key, ft in features.items() if key not in output_features}\n"
   ]
  },
  {
   "cell_type": "code",
   "execution_count": 3,
   "metadata": {},
   "outputs": [
    {
     "name": "stderr",
     "output_type": "stream",
     "text": [
      "WARNING:root:Device 'None' is not available. Switching to 'mps'.\n"
     ]
    },
    {
     "name": "stdout",
     "output_type": "stream",
     "text": [
      "Action feature shape: (2,)\n",
      "Saved VAE input_dim: 2\n",
      "Current action_dim: 2\n",
      "Loaded VAE checkpoint from checkpoints/trained_beta_vae.pth\n",
      "VAE device: mps:0\n",
      "VAE input_dim: 2\n"
     ]
    }
   ],
   "source": [
    "cfg = DiffusionConfig(input_features=input_features,output_features=output_features)\n",
    "\n",
    "# Check action dimension\n",
    "print(\"Action feature shape:\", cfg.action_feature.shape)\n",
    "\n",
    "policy = DiffusionPolicy(cfg, dataset_stats=dataset_metadata.stats)"
   ]
  },
  {
   "cell_type": "code",
   "execution_count": 4,
   "metadata": {},
   "outputs": [],
   "source": [
    "device = torch.device(\"mps\")\n",
    "B = 4\n",
    "Tobs = cfg.n_obs_steps\n",
    "Th = cfg.horizon\n",
    "A = 2\n",
    "\n",
    "batch = {\n",
    "    # proprio state: (B, Tobs, state_dim)\n",
    "    \"observation.state\": torch.randn(B, Tobs, cfg.robot_state_feature.shape[0], device=device),\n",
    "\n",
    "    # a dummy RGB stream so image encoder path is exercised\n",
    "    \"observation.images\": torch.rand(\n",
    "        B, Tobs, 1,                     # one “camera”\n",
    "        3, *cfg.crop_shape, device=device\n",
    "    ),\n",
    "    # action trajectory + padding mask\n",
    "    \"action\":         torch.randn(B, Th, A, device=device),\n",
    "    \"action_is_pad\":  torch.zeros (B, Th,     dtype=torch.bool, device=device)\n",
    "}"
   ]
  },
  {
   "cell_type": "code",
   "execution_count": 7,
   "metadata": {},
   "outputs": [
    {
     "name": "stdout",
     "output_type": "stream",
     "text": [
      "VAE | action -> latent -> action: torch.Size([4, 16, 2]) → torch.Size([64, 2]) → torch.Size([64, 2])\n",
      "VAE reconstruction MSE  : 1.373e-01\n",
      "KL per-dim (mean)       : 12.016\n"
     ]
    }
   ],
   "source": [
    "actions_flat = batch[\"action\"].reshape(-1, A)\n",
    "\n",
    "mu, log_var = policy.vae.encode(actions_flat)          # (B, Th, latent_dim)\n",
    "z           = policy.vae.reparameterize(mu, log_var)\n",
    "recon       = policy.vae.decode(z)\n",
    "\n",
    "print(\"VAE | action -> latent -> action:\", batch[\"action\"].shape, \"→\", z.shape, \"→\", recon.shape)\n",
    "\n",
    "mse = torch.mean((actions_flat - recon) ** 2).item()\n",
    "print(f\"VAE reconstruction MSE  : {mse:.3e}\")\n",
    "print(f\"KL per-dim (mean)       : {(-0.5*(1+log_var-mu**2-log_var.exp())).mean():.3f}\")\n"
   ]
  },
  {
   "cell_type": "code",
   "execution_count": null,
   "metadata": {},
   "outputs": [],
   "source": [
    "def fetch_episode(ds, ep_idx: int, max_len: int = None):\n",
    "    \"\"\"Return a list of actions for the requested episode_index.\"\"\"\n",
    "    # ➊ keep only rows that match the episode\n",
    "    ep_rows = ds.filter(lambda r: r[\"episode_index\"] == ep_idx)\n",
    "    # ➋ make sure they’re sorted by frame_index\n",
    "    ep_rows = sorted(ep_rows, key=itemgetter(\"frame_index\"))\n",
    "    # ➌ pull the 'action' field and (optionally) truncate to max_len\n",
    "    actions = [row[\"action\"] for row in ep_rows]\n",
    "    if max_len is not None:\n",
    "        actions = actions[:max_len]\n",
    "    return torch.tensor(actions, dtype=torch.float32, device=device)  # (T,2)｜"
   ]
  },
  {
   "cell_type": "code",
   "execution_count": null,
   "metadata": {},
   "outputs": [],
   "source": [
    "def fetch_episode(ds, ep_idx: int, max_len: int = None):\n",
    "    \"\"\"Return a list of actions for the requested episode_index.\"\"\"\n",
    "    # ➊ keep only rows that match the episode\n",
    "    ep_rows = ds.filter(lambda r: r[\"episode_index\"] == ep_idx)\n",
    "    # ➋ make sure they’re sorted by frame_index\n",
    "    ep_rows = sorted(ep_rows, key=itemgetter(\"frame_index\"))\n",
    "    # ➌ pull the 'action' field and (optionally) truncate to max_len\n",
    "    actions = [row[\"action\"] for row in ep_rows]\n",
    "    if max_len is not None:\n",
    "        actions = actions[:max_len]\n",
    "    return torch.tensor(actions, dtype=torch.float32, device=device)  # (T,2)｜"
   ]
  },
  {
   "cell_type": "code",
   "execution_count": null,
   "metadata": {},
   "outputs": [],
   "source": [
    "def fetch_episode(ds, ep_idx: int, max_len: int = None):\n",
    "    \"\"\"Return a list of actions for the requested episode_index.\"\"\"\n",
    "    # ➊ keep only rows that match the episode\n",
    "    ep_rows = ds.filter(lambda r: r[\"episode_index\"] == ep_idx)\n",
    "    # ➋ make sure they’re sorted by frame_index\n",
    "    ep_rows = sorted(ep_rows, key=itemgetter(\"frame_index\"))\n",
    "    # ➌ pull the 'action' field and (optionally) truncate to max_len\n",
    "    actions = [row[\"action\"] for row in ep_rows]\n",
    "    if max_len is not None:\n",
    "        actions = actions[:max_len]\n",
    "    return torch.tensor(actions, dtype=torch.float32, device=device)  # (T,2)｜"
   ]
  },
  {
   "cell_type": "code",
   "execution_count": null,
   "metadata": {},
   "outputs": [],
   "source": [
    "def fetch_episode(ds, ep_idx: int, max_len: int = None):\n",
    "    \"\"\"Return a list of actions for the requested episode_index.\"\"\"\n",
    "    # ➊ keep only rows that match the episode\n",
    "    ep_rows = ds.filter(lambda r: r[\"episode_index\"] == ep_idx)\n",
    "    # ➋ make sure they’re sorted by frame_index\n",
    "    ep_rows = sorted(ep_rows, key=itemgetter(\"frame_index\"))\n",
    "    # ➌ pull the 'action' field and (optionally) truncate to max_len\n",
    "    actions = [row[\"action\"] for row in ep_rows]\n",
    "    if max_len is not None:\n",
    "        actions = actions[:max_len]\n",
    "    return torch.tensor(actions, dtype=torch.float32, device=device)  # (T,2)｜"
   ]
  },
  {
   "cell_type": "code",
   "execution_count": 62,
   "metadata": {},
   "outputs": [
    {
     "ename": "RuntimeError",
     "evalue": "Tensor for argument weight is on cpu but expected on mps",
     "output_type": "error",
     "traceback": [
      "\u001b[0;31m---------------------------------------------------------------------------\u001b[0m",
      "\u001b[0;31mRuntimeError\u001b[0m                              Traceback (most recent call last)",
      "Cell \u001b[0;32mIn[62], line 2\u001b[0m\n\u001b[1;32m      1\u001b[0m \u001b[38;5;66;03m# ---------- 2. VAE round-trip alone ----------\u001b[39;00m\n\u001b[0;32m----> 2\u001b[0m mu, log_var \u001b[38;5;241m=\u001b[39m \u001b[43mpolicy\u001b[49m\u001b[38;5;241;43m.\u001b[39;49m\u001b[43mvae\u001b[49m\u001b[38;5;241;43m.\u001b[39;49m\u001b[43mencode\u001b[49m\u001b[43m(\u001b[49m\u001b[43mbatch\u001b[49m\u001b[43m[\u001b[49m\u001b[38;5;124;43m\"\u001b[39;49m\u001b[38;5;124;43maction\u001b[39;49m\u001b[38;5;124;43m\"\u001b[39;49m\u001b[43m]\u001b[49m\u001b[43m)\u001b[49m          \u001b[38;5;66;03m# (B, Th, latent_dim)\u001b[39;00m\n\u001b[1;32m      3\u001b[0m z           \u001b[38;5;241m=\u001b[39m policy\u001b[38;5;241m.\u001b[39mvae\u001b[38;5;241m.\u001b[39mreparameterize(mu, log_var)\n\u001b[1;32m      4\u001b[0m recon       \u001b[38;5;241m=\u001b[39m policy\u001b[38;5;241m.\u001b[39mvae\u001b[38;5;241m.\u001b[39mdecode(z)\n",
      "File \u001b[0;32m~/Desktop/188_project/lerobot_latent_diffusion/lerobot/common/policies/action_vae.py:105\u001b[0m, in \u001b[0;36mActionVAE.encode\u001b[0;34m(self, input)\u001b[0m\n\u001b[1;32m    103\u001b[0m \u001b[38;5;66;03m# Forward through encoder layers\u001b[39;00m\n\u001b[1;32m    104\u001b[0m \u001b[38;5;28;01mfor\u001b[39;00m layer \u001b[38;5;129;01min\u001b[39;00m \u001b[38;5;28mself\u001b[39m\u001b[38;5;241m.\u001b[39mencoder_layers:\n\u001b[0;32m--> 105\u001b[0m     x \u001b[38;5;241m=\u001b[39m \u001b[43mlayer\u001b[49m\u001b[43m(\u001b[49m\u001b[43mx\u001b[49m\u001b[43m)\u001b[49m\n\u001b[1;32m    106\u001b[0m     encoder_outputs\u001b[38;5;241m.\u001b[39mappend(x)\n\u001b[1;32m    108\u001b[0m \u001b[38;5;66;03m# Split the result into mu and var components\u001b[39;00m\n",
      "File \u001b[0;32m~/miniforge3/envs/robotics/lib/python3.10/site-packages/torch/nn/modules/module.py:1751\u001b[0m, in \u001b[0;36mModule._wrapped_call_impl\u001b[0;34m(self, *args, **kwargs)\u001b[0m\n\u001b[1;32m   1749\u001b[0m     \u001b[38;5;28;01mreturn\u001b[39;00m \u001b[38;5;28mself\u001b[39m\u001b[38;5;241m.\u001b[39m_compiled_call_impl(\u001b[38;5;241m*\u001b[39margs, \u001b[38;5;241m*\u001b[39m\u001b[38;5;241m*\u001b[39mkwargs)  \u001b[38;5;66;03m# type: ignore[misc]\u001b[39;00m\n\u001b[1;32m   1750\u001b[0m \u001b[38;5;28;01melse\u001b[39;00m:\n\u001b[0;32m-> 1751\u001b[0m     \u001b[38;5;28;01mreturn\u001b[39;00m \u001b[38;5;28;43mself\u001b[39;49m\u001b[38;5;241;43m.\u001b[39;49m\u001b[43m_call_impl\u001b[49m\u001b[43m(\u001b[49m\u001b[38;5;241;43m*\u001b[39;49m\u001b[43margs\u001b[49m\u001b[43m,\u001b[49m\u001b[43m \u001b[49m\u001b[38;5;241;43m*\u001b[39;49m\u001b[38;5;241;43m*\u001b[39;49m\u001b[43mkwargs\u001b[49m\u001b[43m)\u001b[49m\n",
      "File \u001b[0;32m~/miniforge3/envs/robotics/lib/python3.10/site-packages/torch/nn/modules/module.py:1762\u001b[0m, in \u001b[0;36mModule._call_impl\u001b[0;34m(self, *args, **kwargs)\u001b[0m\n\u001b[1;32m   1757\u001b[0m \u001b[38;5;66;03m# If we don't have any hooks, we want to skip the rest of the logic in\u001b[39;00m\n\u001b[1;32m   1758\u001b[0m \u001b[38;5;66;03m# this function, and just call forward.\u001b[39;00m\n\u001b[1;32m   1759\u001b[0m \u001b[38;5;28;01mif\u001b[39;00m \u001b[38;5;129;01mnot\u001b[39;00m (\u001b[38;5;28mself\u001b[39m\u001b[38;5;241m.\u001b[39m_backward_hooks \u001b[38;5;129;01mor\u001b[39;00m \u001b[38;5;28mself\u001b[39m\u001b[38;5;241m.\u001b[39m_backward_pre_hooks \u001b[38;5;129;01mor\u001b[39;00m \u001b[38;5;28mself\u001b[39m\u001b[38;5;241m.\u001b[39m_forward_hooks \u001b[38;5;129;01mor\u001b[39;00m \u001b[38;5;28mself\u001b[39m\u001b[38;5;241m.\u001b[39m_forward_pre_hooks\n\u001b[1;32m   1760\u001b[0m         \u001b[38;5;129;01mor\u001b[39;00m _global_backward_pre_hooks \u001b[38;5;129;01mor\u001b[39;00m _global_backward_hooks\n\u001b[1;32m   1761\u001b[0m         \u001b[38;5;129;01mor\u001b[39;00m _global_forward_hooks \u001b[38;5;129;01mor\u001b[39;00m _global_forward_pre_hooks):\n\u001b[0;32m-> 1762\u001b[0m     \u001b[38;5;28;01mreturn\u001b[39;00m \u001b[43mforward_call\u001b[49m\u001b[43m(\u001b[49m\u001b[38;5;241;43m*\u001b[39;49m\u001b[43margs\u001b[49m\u001b[43m,\u001b[49m\u001b[43m \u001b[49m\u001b[38;5;241;43m*\u001b[39;49m\u001b[38;5;241;43m*\u001b[39;49m\u001b[43mkwargs\u001b[49m\u001b[43m)\u001b[49m\n\u001b[1;32m   1764\u001b[0m result \u001b[38;5;241m=\u001b[39m \u001b[38;5;28;01mNone\u001b[39;00m\n\u001b[1;32m   1765\u001b[0m called_always_called_hooks \u001b[38;5;241m=\u001b[39m \u001b[38;5;28mset\u001b[39m()\n",
      "File \u001b[0;32m~/miniforge3/envs/robotics/lib/python3.10/site-packages/torch/nn/modules/container.py:240\u001b[0m, in \u001b[0;36mSequential.forward\u001b[0;34m(self, input)\u001b[0m\n\u001b[1;32m    238\u001b[0m \u001b[38;5;28;01mdef\u001b[39;00m\u001b[38;5;250m \u001b[39m\u001b[38;5;21mforward\u001b[39m(\u001b[38;5;28mself\u001b[39m, \u001b[38;5;28minput\u001b[39m):\n\u001b[1;32m    239\u001b[0m     \u001b[38;5;28;01mfor\u001b[39;00m module \u001b[38;5;129;01min\u001b[39;00m \u001b[38;5;28mself\u001b[39m:\n\u001b[0;32m--> 240\u001b[0m         \u001b[38;5;28minput\u001b[39m \u001b[38;5;241m=\u001b[39m \u001b[43mmodule\u001b[49m\u001b[43m(\u001b[49m\u001b[38;5;28;43minput\u001b[39;49m\u001b[43m)\u001b[49m\n\u001b[1;32m    241\u001b[0m     \u001b[38;5;28;01mreturn\u001b[39;00m \u001b[38;5;28minput\u001b[39m\n",
      "File \u001b[0;32m~/miniforge3/envs/robotics/lib/python3.10/site-packages/torch/nn/modules/module.py:1751\u001b[0m, in \u001b[0;36mModule._wrapped_call_impl\u001b[0;34m(self, *args, **kwargs)\u001b[0m\n\u001b[1;32m   1749\u001b[0m     \u001b[38;5;28;01mreturn\u001b[39;00m \u001b[38;5;28mself\u001b[39m\u001b[38;5;241m.\u001b[39m_compiled_call_impl(\u001b[38;5;241m*\u001b[39margs, \u001b[38;5;241m*\u001b[39m\u001b[38;5;241m*\u001b[39mkwargs)  \u001b[38;5;66;03m# type: ignore[misc]\u001b[39;00m\n\u001b[1;32m   1750\u001b[0m \u001b[38;5;28;01melse\u001b[39;00m:\n\u001b[0;32m-> 1751\u001b[0m     \u001b[38;5;28;01mreturn\u001b[39;00m \u001b[38;5;28;43mself\u001b[39;49m\u001b[38;5;241;43m.\u001b[39;49m\u001b[43m_call_impl\u001b[49m\u001b[43m(\u001b[49m\u001b[38;5;241;43m*\u001b[39;49m\u001b[43margs\u001b[49m\u001b[43m,\u001b[49m\u001b[43m \u001b[49m\u001b[38;5;241;43m*\u001b[39;49m\u001b[38;5;241;43m*\u001b[39;49m\u001b[43mkwargs\u001b[49m\u001b[43m)\u001b[49m\n",
      "File \u001b[0;32m~/miniforge3/envs/robotics/lib/python3.10/site-packages/torch/nn/modules/module.py:1762\u001b[0m, in \u001b[0;36mModule._call_impl\u001b[0;34m(self, *args, **kwargs)\u001b[0m\n\u001b[1;32m   1757\u001b[0m \u001b[38;5;66;03m# If we don't have any hooks, we want to skip the rest of the logic in\u001b[39;00m\n\u001b[1;32m   1758\u001b[0m \u001b[38;5;66;03m# this function, and just call forward.\u001b[39;00m\n\u001b[1;32m   1759\u001b[0m \u001b[38;5;28;01mif\u001b[39;00m \u001b[38;5;129;01mnot\u001b[39;00m (\u001b[38;5;28mself\u001b[39m\u001b[38;5;241m.\u001b[39m_backward_hooks \u001b[38;5;129;01mor\u001b[39;00m \u001b[38;5;28mself\u001b[39m\u001b[38;5;241m.\u001b[39m_backward_pre_hooks \u001b[38;5;129;01mor\u001b[39;00m \u001b[38;5;28mself\u001b[39m\u001b[38;5;241m.\u001b[39m_forward_hooks \u001b[38;5;129;01mor\u001b[39;00m \u001b[38;5;28mself\u001b[39m\u001b[38;5;241m.\u001b[39m_forward_pre_hooks\n\u001b[1;32m   1760\u001b[0m         \u001b[38;5;129;01mor\u001b[39;00m _global_backward_pre_hooks \u001b[38;5;129;01mor\u001b[39;00m _global_backward_hooks\n\u001b[1;32m   1761\u001b[0m         \u001b[38;5;129;01mor\u001b[39;00m _global_forward_hooks \u001b[38;5;129;01mor\u001b[39;00m _global_forward_pre_hooks):\n\u001b[0;32m-> 1762\u001b[0m     \u001b[38;5;28;01mreturn\u001b[39;00m \u001b[43mforward_call\u001b[49m\u001b[43m(\u001b[49m\u001b[38;5;241;43m*\u001b[39;49m\u001b[43margs\u001b[49m\u001b[43m,\u001b[49m\u001b[43m \u001b[49m\u001b[38;5;241;43m*\u001b[39;49m\u001b[38;5;241;43m*\u001b[39;49m\u001b[43mkwargs\u001b[49m\u001b[43m)\u001b[49m\n\u001b[1;32m   1764\u001b[0m result \u001b[38;5;241m=\u001b[39m \u001b[38;5;28;01mNone\u001b[39;00m\n\u001b[1;32m   1765\u001b[0m called_always_called_hooks \u001b[38;5;241m=\u001b[39m \u001b[38;5;28mset\u001b[39m()\n",
      "File \u001b[0;32m~/miniforge3/envs/robotics/lib/python3.10/site-packages/torch/nn/modules/linear.py:125\u001b[0m, in \u001b[0;36mLinear.forward\u001b[0;34m(self, input)\u001b[0m\n\u001b[1;32m    124\u001b[0m \u001b[38;5;28;01mdef\u001b[39;00m\u001b[38;5;250m \u001b[39m\u001b[38;5;21mforward\u001b[39m(\u001b[38;5;28mself\u001b[39m, \u001b[38;5;28minput\u001b[39m: Tensor) \u001b[38;5;241m-\u001b[39m\u001b[38;5;241m>\u001b[39m Tensor:\n\u001b[0;32m--> 125\u001b[0m     \u001b[38;5;28;01mreturn\u001b[39;00m \u001b[43mF\u001b[49m\u001b[38;5;241;43m.\u001b[39;49m\u001b[43mlinear\u001b[49m\u001b[43m(\u001b[49m\u001b[38;5;28;43minput\u001b[39;49m\u001b[43m,\u001b[49m\u001b[43m \u001b[49m\u001b[38;5;28;43mself\u001b[39;49m\u001b[38;5;241;43m.\u001b[39;49m\u001b[43mweight\u001b[49m\u001b[43m,\u001b[49m\u001b[43m \u001b[49m\u001b[38;5;28;43mself\u001b[39;49m\u001b[38;5;241;43m.\u001b[39;49m\u001b[43mbias\u001b[49m\u001b[43m)\u001b[49m\n",
      "\u001b[0;31mRuntimeError\u001b[0m: Tensor for argument weight is on cpu but expected on mps"
     ]
    }
   ],
   "source": [
    "# ---------- 2. VAE round-trip alone ----------\n",
    "mu, log_var = policy.vae.encode(batch[\"action\"])          # (B, Th, latent_dim)\n",
    "z           = policy.vae.reparameterize(mu, log_var)\n",
    "recon       = policy.vae.decode(z)\n",
    "\n",
    "print(\"VAE | action -> latent -> action:\", batch[\"action\"].shape, \"→\", z.shape, \"→\", recon.shape)"
   ]
  },
  {
   "cell_type": "code",
   "execution_count": null,
   "metadata": {},
   "outputs": [],
   "source": []
  },
  {
   "cell_type": "code",
   "execution_count": null,
   "metadata": {},
   "outputs": [],
   "source": [
    "def fetch_episode(ds, ep_idx: int, max_len: int = None):\n",
    "    \"\"\"Return a list of actions for the requested episode_index.\"\"\"\n",
    "    # ➊ keep only rows that match the episode\n",
    "    ep_rows = ds.filter(lambda r: r[\"episode_index\"] == ep_idx)\n",
    "    # ➋ make sure they’re sorted by frame_index\n",
    "    ep_rows = sorted(ep_rows, key=itemgetter(\"frame_index\"))\n",
    "    # ➌ pull the 'action' field and (optionally) truncate to max_len\n",
    "    actions = [row[\"action\"] for row in ep_rows]\n",
    "    if max_len is not None:\n",
    "        actions = actions[:max_len]\n",
    "    return torch.tensor(actions, dtype=torch.float32, device=device)  # (T,2)｜"
   ]
  }
 ],
 "metadata": {
  "kernelspec": {
   "display_name": "robotics",
   "language": "python",
   "name": "python3"
  },
  "language_info": {
   "codemirror_mode": {
    "name": "ipython",
    "version": 3
   },
   "file_extension": ".py",
   "mimetype": "text/x-python",
   "name": "python",
   "nbconvert_exporter": "python",
   "pygments_lexer": "ipython3",
   "version": "3.10.17"
  }
 },
 "nbformat": 4,
 "nbformat_minor": 2
}
